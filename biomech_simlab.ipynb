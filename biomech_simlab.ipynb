{
 "cells": [
  {
   "cell_type": "markdown",
   "metadata": {},
   "source": [
    "# Biomechanical Simulation Lab\n",
    "I Latin-American Summer School on Biomechanics and Mechanobiology. Instructor: Francisco Sahli - fsahli1@uc.cl\n",
    "\n",
    "In this session, we will learn some basic concepts of finite elements and hyperelasticity focused in biomechanical materials. We will use the open source finite element enviroment FEnicS."
   ]
  },
  {
   "cell_type": "markdown",
   "metadata": {},
   "source": [
    "We first import some packages:\n",
    "- dolfin: this is the finite element engine that we will be using. It is part of FeniCS\n",
    "- matplotlib: used for plotting\n",
    "- ufl: is also part of dolfin, we require only one function from here\n",
    "- numpy: is a general scientific computing package\n",
    "\n",
    "Dolfin generates and compiles C++ code in the back to speed up calculations and we need to set some compiler parameters"
   ]
  },
  {
   "cell_type": "code",
   "execution_count": null,
   "metadata": {
    "scrolled": true
   },
   "outputs": [],
   "source": [
    "from dolfin import *\n",
    "import matplotlib.pyplot as plt\n",
    "from ufl import cofac\n",
    "import numpy as np\n",
    "\n",
    "parameters[\"form_compiler\"][\"cpp_optimize\"] = True\n",
    "parameters[\"form_compiler\"][\"representation\"] = \"uflacs\"\n",
    "parameters[\"form_compiler\"][\"quadrature_degree\"] = 2\n"
   ]
  },
  {
   "cell_type": "markdown",
   "metadata": {},
   "source": [
    "We also define some functions that will be useful and make the code look cleaner"
   ]
  },
  {
   "cell_type": "code",
   "execution_count": null,
   "metadata": {},
   "outputs": [],
   "source": [
    "#helper functions\n",
    "def plot_beam(V, u, Z = None, P = None, component = 0):\n",
    "    coords = V.tabulate_dof_coordinates()[::3,:]\n",
    "    face_ind = np.where(coords[:,1] == 0.0)[0]\n",
    "    disp = u.vector().get_local().reshape((-1,3))\n",
    "    up_coords = coords + disp\n",
    "    \n",
    "    plt.figure(figsize = (10,5))\n",
    "    plt.scatter(coords[face_ind,0],coords[face_ind,2], 9,'k')\n",
    "    if Z is None or P is None:\n",
    "        plt.scatter(up_coords[face_ind,0],up_coords[face_ind,2],25, 'red')\n",
    "    else:\n",
    "        P_project = project(P,Z)\n",
    "        P_nodes = P_project.vector().get_local().reshape((-1,9))\n",
    "        plt.scatter(up_coords[face_ind,0],up_coords[face_ind,2],25, c = P_nodes[face_ind,component])\n",
    "        cbar = plt.colorbar()\n",
    "        cbar.set_label('stress [kPa]')\n",
    "        \n",
    "    plt.xlabel('X [mm]')\n",
    "    plt.ylabel('Z [mm]')\n",
    "    plt.axis('equal')\n",
    "    \n",
    "def get_stress(Z, P, pos = [5.,0.5,0.5], component = 0):\n",
    "    pos = np.array(pos)\n",
    "    coords = Z.tabulate_dof_coordinates()[::9,:]\n",
    "    dof_ind = np.argmin(np.linalg.norm(coords - pos, axis = 1))\n",
    "    \n",
    "    P_project = project(P,Z)\n",
    "    P_nodes = P_project.vector().get_local().reshape((-1,9))\n",
    "    \n",
    "    return P_nodes[dof_ind, component]\n",
    "\n",
    "def get_disp(V, u, pos = [10.,0.5,1.0], component = 2):\n",
    "    pos = np.array(pos)\n",
    "    coords = V.tabulate_dof_coordinates()[::3,:]\n",
    "    dof_ind = np.argmin(np.linalg.norm(coords - pos, axis = 1))\n",
    "    \n",
    "    disp = u.vector().get_local().reshape((-1,3))\n",
    "    \n",
    "    return disp[dof_ind, component]\n"
   ]
  },
  {
   "cell_type": "markdown",
   "metadata": {},
   "source": [
    "We are going to work with a simple beam geometry throughout this session. The dimensions are:\n",
    "$$\\rm L_x = 10 \\hspace{1mm}mm, \\hspace{2mm}L_y = L_z = 1\\hspace{1mm}\\rm{mm}$$\n",
    "\n",
    "<img src=\"beam.png\" width=500>\n",
    "\n",
    "We will use the built-in `BoxMesh` function from dolfin to generate the beam. We specify the 2 opposite corners of the beam using a list of `Point`. We specify the number of division that we want on each direction with `nx, ny, nz`. We will start with a coarse mesh of 0.5 mm and later refine it to get more accurate results. Finally, we set the cell (element) type to hexahedron. "
   ]
  },
  {
   "cell_type": "code",
   "execution_count": null,
   "metadata": {},
   "outputs": [],
   "source": [
    "nx = 20\n",
    "ny = nz = 2\n",
    "\n",
    "mesh = BoxMesh.create([Point(0.0,0.0,0.0),Point(10.0,1.0,1.0)],[nx,ny,nz],CellType.Type.hexahedron)"
   ]
  },
  {
   "cell_type": "markdown",
   "metadata": {},
   "source": [
    "We create a vector function space `V` for our mesh, using Lagrange polynomials of degree 1. This will determine the type of element we will use. We also create a tensor function space `Z` to store and compute stress.\n",
    "We then create the test and trail functions `v` and `du` and the function that will represent the displacements `u`"
   ]
  },
  {
   "cell_type": "code",
   "execution_count": null,
   "metadata": {},
   "outputs": [],
   "source": [
    "V = VectorFunctionSpace(mesh, \"Lagrange\", 1)\n",
    "Z = TensorFunctionSpace(mesh, 'Lagrange', 1) # for stress visualization\n",
    "du = TrialFunction(V)            # Incremental displacement\n",
    "v  = TestFunction(V)             # Test function\n",
    "u  = Function(V)                 # Displacement from previous iteration"
   ]
  },
  {
   "cell_type": "markdown",
   "metadata": {},
   "source": [
    "We define the kinematics of the problem, specically the deformation gradient $$\\mathbf{F} = \\frac{d \\mathbf{x}}{d \\mathbf{X}} = \\mathbf{I} + \\frac{d \\mathbf{u}}{d \\mathbf{X}}$$\n",
    "Since we will make multiple calls to this expression, we will define a function:"
   ]
  },
  {
   "cell_type": "code",
   "execution_count": null,
   "metadata": {},
   "outputs": [],
   "source": [
    "def def_grad(u):\n",
    "    I = Identity(3)\n",
    "    F = None\n",
    "    return F"
   ]
  },
  {
   "cell_type": "markdown",
   "metadata": {},
   "source": [
    "We will start with a neo-Hookean material with the following strain energy function:\n",
    "\n",
    "$$W = \\frac{\\mu}{2}(I_1 - 3) - \\mu\\ln{J} + \\frac{\\lambda}{2}\\ln(J)^2$$\n",
    "where $\\mu$ and $\\lambda$ are the Lamé parameters, $I_1 = {\\rm tr}(\\mathbf{C})$ and $J = \\det{\\mathbf{F}}$. \n",
    "\n",
    "$\\mathbf{C} = \\mathbf{F}^t\\mathbf{F}$ is the right Cauchy-Green deformation tensor. \n",
    "\n",
    "Define the strain energy function $W$ from the deformation gradient $\\mathbf{F}$.\n",
    "Hints:\n",
    "\n",
    "$\\mathbf{A}^t$ = `A.T`\n",
    "\n",
    "$\\det(\\mathbf{A})$ = `det(A)`\n",
    "\n",
    "${\\rm tr}(A)$ = `tr(A)`"
   ]
  },
  {
   "cell_type": "code",
   "execution_count": null,
   "metadata": {},
   "outputs": [],
   "source": [
    "def W_neohook(F, mu = 1.0, lmbda = 10.0):\n",
    "    C = None \n",
    "    J = None\n",
    "    I1 = None\n",
    "    W = (mu/2)*(I1 - 3) - mu*ln(J) + (lmbda/2)*(ln(J))**2\n",
    "    return W"
   ]
  },
  {
   "cell_type": "markdown",
   "metadata": {},
   "source": [
    "We now define the total potential energy as volume integral over the entire body:\n",
    "$$\\Pi = \\int_B W(\\mathbf{F}) dV$$\n",
    "In general, this term could include traction and body forces, but we will ignore them for now.\n",
    "The variable `dx` represents a volume integral in FeniCS"
   ]
  },
  {
   "cell_type": "code",
   "execution_count": null,
   "metadata": {},
   "outputs": [],
   "source": [
    "F = def_grad(u)\n",
    "F = variable(F) # this is used to compute stress later\n",
    "\n",
    "W = W_neohook(F)\n",
    "\n",
    "Pi = W*dx "
   ]
  },
  {
   "cell_type": "markdown",
   "metadata": {},
   "source": [
    "We start by simulating a traction test, where we clamp both ends of the bar and pull on one of them with a given displacement.\n",
    "\n",
    "<img src=\"beam_bc.png\" width=500>\n",
    "\n",
    "To achieve this, we first need to write functions `left` and `right` to define the surfaces where the boundary conditions are applied. The term `on_boundary` is true when the nodes are at the boundary of the domain. The term `near(x[0], 0.0, tol)` specifies the location, which is the case of `left` is `0.0`. The vector `x` contains the (x,y,z) coordinates of the node, starting from `0`."
   ]
  },
  {
   "cell_type": "code",
   "execution_count": null,
   "metadata": {},
   "outputs": [],
   "source": [
    "def left(x, on_boundary):\n",
    "    tol = 1E-14\n",
    "    return on_boundary and near(x[0], 0.0, tol)\n",
    "\n",
    "\n",
    "def right(x, on_boundary):\n",
    "    tol = 1E-14\n",
    "    return on_boundary and near(x[0], 10.0, tol)\n"
   ]
  },
  {
   "cell_type": "markdown",
   "metadata": {},
   "source": [
    "We then define the magnitude of the loads with the `Constant`s `c` and `r`. We use `Constant` here instead of the single value because we can update these quantities later without the need of redifining the entire model. We constraint the left side with `0.0` in every direction and on the right side we constraint the y and z directions and apply a 1 mm displacement in the x direction.\n",
    "\n",
    "We finally define the left `bcl` and right `bcr` Dirichlet boundary conditions and create a list `bcs` with them:"
   ]
  },
  {
   "cell_type": "code",
   "execution_count": null,
   "metadata": {},
   "outputs": [],
   "source": [
    "c = Constant((0.0, 0.0, 0.0))\n",
    "r = Constant((1.0,0.0,0.0))\n",
    "\n",
    "bcl = DirichletBC(V, c, left)\n",
    "bcr = DirichletBC(V, r, right)\n",
    "bcs = [bcl, bcr]"
   ]
  },
  {
   "cell_type": "markdown",
   "metadata": {},
   "source": [
    "We have completely defined our problem and we can now define our residual `G` as the directional (Gateaux) derivative of the potential energy `Pi` as $G = d\\Pi(\\mathbf{u};\\mathbf{v}) = 0$. Since we are going to use Newton-Raphson solver for this problem, we also the need the need the Jacobian of `G`, `dG`, $dG = dG(\\mathbf{u};d\\mathbf{u})$. This is all handled automatically by FeniCS and we don't need to do all the derivations."
   ]
  },
  {
   "cell_type": "code",
   "execution_count": null,
   "metadata": {},
   "outputs": [],
   "source": [
    "G = derivative(Pi, u, v)\n",
    "dG = derivative(G, u, du)"
   ]
  },
  {
   "cell_type": "markdown",
   "metadata": {},
   "source": [
    "We finally can solve the problem by simply calling `solve` and including the residual `G`, the displacement field `u`, the boundary conditions `bcs` and the Jacobian `dG`."
   ]
  },
  {
   "cell_type": "code",
   "execution_count": null,
   "metadata": {},
   "outputs": [],
   "source": [
    "solve(G == 0, u, bcs, J=dG)\n",
    "plot_beam(V,u)"
   ]
  },
  {
   "cell_type": "markdown",
   "metadata": {},
   "source": [
    "We can also compute the 1st Piola-Kirchhoff stress as $\\mathbf{P} = \\frac{\\delta W}{\\delta \\mathbf{F}}$ and plot $\\mathbf{P}_{11}$.\n"
   ]
  },
  {
   "cell_type": "code",
   "execution_count": null,
   "metadata": {
    "scrolled": true
   },
   "outputs": [],
   "source": [
    "P = diff(W,F)\n",
    "plot_beam(V,u,Z,P)"
   ]
  },
  {
   "cell_type": "markdown",
   "metadata": {},
   "source": [
    "We can increase the displacement that we apply to the right end of the bar to 10 mm, by re-assigning the value of the `Constant` `r` and solve the problem again."
   ]
  },
  {
   "cell_type": "code",
   "execution_count": null,
   "metadata": {},
   "outputs": [],
   "source": [
    "r.assign(Constant(None))\n",
    "\n",
    "solve(G == 0, u, bcs, J=dG)\n",
    "\n",
    "plot_beam(V,u)"
   ]
  },
  {
   "cell_type": "markdown",
   "metadata": {},
   "source": [
    "### ERROR"
   ]
  },
  {
   "cell_type": "markdown",
   "metadata": {},
   "source": [
    "We see that the solver failed to converge. This is very common in large deformation problems. The issue is that the initial guess of the solution (zero displacement) is too far away from the solution. One very widely used methodolody to remedy this problem is load stepping. Here, we apply the displacement in smaller steps and update the initial guess every time. To achieve this, we create a `for` loop that updated the value of `r` by an `increment`. We also store the displacement in `disp_neo` and stress at the center of the bar in `stress_neo`. We use the helper function `get_stress` for this."
   ]
  },
  {
   "cell_type": "code",
   "execution_count": null,
   "metadata": {},
   "outputs": [],
   "source": [
    "# reset solution\n",
    "zeros = np.zeros_like(u.vector().get_local())\n",
    "u.vector().set_local(zeros)\n",
    "\n",
    "n_steps = 10\n",
    "max_disp = 10.0 # this must float!!\n",
    "increment = max_disp/n_steps\n",
    "\n",
    "disp_neo = [0]\n",
    "stress_neo = [0]\n",
    "\n",
    "for i in range(n_steps):\n",
    "    print('%i/%i, displacement = %f' % (i+1, n_steps,increment*(i+1)))\n",
    "    r.assign(Constant((increment*(i+1),0.0,0.0)))\n",
    "    solve(G == 0, u, bcs, J=dG)\n",
    "    disp_neo.append(increment*(i+1))\n",
    "    stress_neo.append(get_stress(Z,P))\n",
    "\n",
    "plot_beam(V,u)"
   ]
  },
  {
   "cell_type": "markdown",
   "metadata": {},
   "source": [
    "We see that the simulation now is able to converge. Since we compute multiple intermediate steps, we can also plot how the stress evolves as we increase the displacement"
   ]
  },
  {
   "cell_type": "code",
   "execution_count": null,
   "metadata": {},
   "outputs": [],
   "source": [
    "plt.plot(disp_neo,stress_neo)\n",
    "plt.xlabel('displacement [mm]')\n",
    "plt.ylabel('stress [kPa]')"
   ]
  },
  {
   "cell_type": "markdown",
   "metadata": {},
   "source": [
    "## Guccione material model\n",
    "\n",
    "We now switch to a more complex, biologically relevant material. The Guccione model [1] was developed specifically for cardiac tissue, to capture the exponential and anisotropic behavior observed in experiments. It is defined by the following strain energy function:\n",
    "$$W_{ani} = \\frac{C}{2}(e^Q - 1)$$ \n",
    "$$     Q = b_{f}\\mathbf{E}_{11}^2 + b_{t}(\\mathbf{E}_{22}^2 + \\mathbf{E}_{33}^2 + \\mathbf{E}_{23}^2 + \\mathbf{E}_{32}^2) + b_{fs}(\\mathbf{E}_{12}^2 + \\mathbf{E}_{21}^2 + \\mathbf{E}_{13}^2 + \\mathbf{E}_{31}^2) $$\n",
    "\n",
    "The tensor $\\mathbf{E}$ is defined in a coordinate system that is aligned with the fibers of the cardiac tissue. We will define this system as `e1,e2,e3` in the code to project the tensor. In our case, we will consider that this is the x direction.\n",
    "\n",
    "Here, we consider a nearly incompressible version, with $\\mathbf{E} = \\frac{1}{2}(\\bar{\\mathbf{C}} - \\mathbf{I})$ and $\\bar{\\mathbf{C}} = J^{-\\frac{2}{3}}\\mathbf{C}$. For this reason, we need to add penalty term in the strain energy function to enforce the incompressibility:\n",
    "$$ W_{inc} = \\kappa(J^2 - 1 - 2\\ln(J))$$\n",
    "The total strain energy becomes $W_{guc} = W_{inc} + W_{ani}$.\n",
    "\n",
    "Useful functions: $\\exp(a)$ = `exp(a)`, $\\ln(a)$ = `ln(a)` \n",
    "\n"
   ]
  },
  {
   "cell_type": "code",
   "execution_count": null,
   "metadata": {},
   "outputs": [],
   "source": [
    "def W_guccione(F):\n",
    "    I = Identity(3)\n",
    "    J = det(F)\n",
    "    C = pow(J, -float(2)/3) * F.T*F\n",
    "    E = 0.5*(C - I)\n",
    "\n",
    "    CC  = 2.0\n",
    "\n",
    "    bt  = Constant(8.0, name='bt')\n",
    "    bf  = Constant(2.0, name='bf')\n",
    "    bfs = Constant(4.0, name='bfs')\n",
    "    kappa = Constant(100.0, name = 'kappa')\n",
    "\n",
    "    e1 = as_vector([1.0,0.0,0.0])\n",
    "    e2 = as_vector([0.0,1.0,0.0])\n",
    "    e3 = as_vector([0.0,0.0,1.0])\n",
    "\n",
    "    E11, E12, E13 = inner(E*e1, e1), inner(E*e1, e2), inner(E*e1, e3)\n",
    "    E21, E22, E23 = inner(E*e2, e1), inner(E*e2, e2), inner(E*e2, e3)\n",
    "    E31, E32, E33 = inner(E*e3, e1), inner(E*e3, e2), inner(E*e3, e3)\n",
    "\n",
    "    Q = bf*E11**2 + bt*(E22**2 + E33**2 + E23**2 + E32**2) \\\n",
    "      + bfs*(E12**2 + E21**2 + E13**2 + E31**2)\n",
    "\n",
    "    # passive strain energy\n",
    "    Wani = None\n",
    "    Winc = None\n",
    "\n",
    "    return Wani + Winc"
   ]
  },
  {
   "cell_type": "markdown",
   "metadata": {},
   "source": [
    "To solve the same problem with this new material, we need to redefine our strain energy `W`, the total potential energy `Pi`, the residual `G` and its Jacobian `dG`."
   ]
  },
  {
   "cell_type": "code",
   "execution_count": null,
   "metadata": {},
   "outputs": [],
   "source": [
    "W = W_guccione(F)\n",
    "\n",
    "Pi = None\n",
    "\n",
    "G = None\n",
    "dG = None"
   ]
  },
  {
   "cell_type": "markdown",
   "metadata": {},
   "source": [
    "In this case, we also use load stepping to solve the problem."
   ]
  },
  {
   "cell_type": "code",
   "execution_count": null,
   "metadata": {
    "scrolled": false
   },
   "outputs": [],
   "source": [
    "# reset solution\n",
    "zeros = np.zeros_like(u.vector().get_local())\n",
    "u.vector().set_local(zeros)\n",
    "\n",
    "n_steps = 10\n",
    "max_disp = 10.0 # this must float!!\n",
    "increment = max_disp/n_steps\n",
    "\n",
    "disp_guc = [0]\n",
    "stress_guc = [0]\n",
    "\n",
    "for i in range(n_steps):\n",
    "    print('%i/%i, displacement = %f' % (i+1, n_steps,increment*(i+1)))\n",
    "    r.assign(Constant((increment*(i+1),0.0,0.0)))\n",
    "    solve(G == 0, u, bcs, J=dG)\n",
    "    disp_guc.append(increment*(i+1))\n",
    "    stress_guc.append(get_stress(Z,P))\n",
    "\n",
    "plot_beam(V,u)"
   ]
  },
  {
   "cell_type": "markdown",
   "metadata": {},
   "source": [
    "We can now compare the stress behaviour of the different materials. We observe that the neo-Hookean material has a softening behavior, while the stress for the Guccione model starts increasing exponentially."
   ]
  },
  {
   "cell_type": "code",
   "execution_count": null,
   "metadata": {
    "scrolled": true
   },
   "outputs": [],
   "source": [
    "plt.plot(disp_neo,stress_neo, label = 'neo-Hookean')\n",
    "plt.plot(disp_guc,stress_guc, label = 'Guccione')\n",
    "plt.xlabel('displacement [mm]')\n",
    "plt.ylabel('stress [kPa]')\n",
    "plt.legend(loc = 'upper left')"
   ]
  },
  {
   "cell_type": "markdown",
   "metadata": {},
   "source": [
    "## Cardiac mechanics benchmark\n",
    "\n",
    "We will now solve a problem proposed to evaluate the performance of cardiac mechanics codes [2]. Here, we will use the same beam and apply a pressure of 0.004 kPa at the bottom face (z = 0), with the left side clamped. \n",
    "\n",
    "<img src=\"beam_pr.png\" width=500>\n",
    "\n",
    "For simplicity, we will use again a nearly incompressible version of the Guccione model instead of the fully incompressible used in the paper. \n",
    "\n",
    "To define the pressure, we define an `Expression` `T`, which is `0` everywhere, except where the z coordinate `x[2]` is zero. Here the expression takes the value of `pressure`. In this way we only apply the pressure at the z = 0 face. To avoid numerial issues when defining the z = 0 face, we `x[2]` to be lower than a very small value called `DOLFIN_EPS`.\n",
    "\n",
    "To apply the pressure normal to this face, we define `N` as the vector normal to the surface mesh with the function `FacetNormal`. Since the pressure follows the deformation of the beam, we need to update our vector `N` to the current configuration using Nanson's formula $\\mathbf{n}da = J\\mathbf{F}^{-t}\\mathbf{N}dA = {\\rm cofactor} (\\mathbf{F}) \\mathbf{N}dA $. Additionally, a following pressure is non-conservative load, which means that it cannot be derived from a potential energy. That is why we need to add it separately to the residual as `Gext` with the form:\n",
    "$$G_{ext} = \\int_{dS} \\mathbf{v}\\cdot  {\\rm cofactor} (\\mathbf{F}) \\mathbf{N}dA$$\n",
    "\n",
    "In the code `ds` represents a surface integral as `dx` represents a volume integral. We can finally define the residual $G = d\\Pi + G_{ext}$."
   ]
  },
  {
   "cell_type": "code",
   "execution_count": null,
   "metadata": {},
   "outputs": [],
   "source": [
    "pressure = Constant(0.0)\n",
    "\n",
    "T = Expression('x[2] < DOLFIN_EPS ? pressure : 0',degree = 2, \n",
    "               pressure = pressure)\n",
    "N = FacetNormal(mesh)\n",
    "n = cofac(F)*N\n",
    "\n",
    "Gext = T * inner(v, n) * ds\n",
    "G = derivative(Pi, u, v) + Gext\n",
    "\n",
    "dG = derivative(G, u, du)\n",
    "\n",
    "bcs = [bcl]"
   ]
  },
  {
   "cell_type": "markdown",
   "metadata": {},
   "source": [
    "With our problem fully defined, we can solve the problem with load stepping again. Here, we will update the `Constant` `pressure` instead of the displacement."
   ]
  },
  {
   "cell_type": "code",
   "execution_count": null,
   "metadata": {},
   "outputs": [],
   "source": [
    "# reset solution\n",
    "zeros = np.zeros_like(u.vector().get_local())\n",
    "u.vector().set_local(zeros)\n",
    "\n",
    "total_force = 0.004 #kPa\n",
    "steps = 10\n",
    "for i in range(steps):\n",
    "    print('%i/%i, pressure = %f' % (i+1, steps, total_force/steps*(i+1)))\n",
    "    None # update the pressure\n",
    "    solve(G == 0, u, bcs, J=dG)\n",
    "\n",
    "plot_beam(V,u)\n",
    "\n"
   ]
  },
  {
   "cell_type": "markdown",
   "metadata": {},
   "source": [
    "## Mesh convergence\n",
    "\n",
    "Now we can see the influence of the element size on our results. Unfortunately, the number of partitions on the mesh cannot be parameterized with `Constant`. In this case, we define a function that will redefine the entire problem for a given set of partitions `nx,ny,nz`. We will extract the z displacement of the tip of the beam at the point [10.,0.5,1.0] with the helper function `get_disp`."
   ]
  },
  {
   "cell_type": "code",
   "execution_count": null,
   "metadata": {},
   "outputs": [],
   "source": [
    "def refine_benchmark(nx,ny,nz):\n",
    "    mesh = BoxMesh.create([Point(0.0,0.0,0.0),Point(10.0,1.0,1.0)],[nx,ny,nz],CellType.Type.hexahedron)\n",
    "    V = VectorFunctionSpace(mesh, \"Lagrange\", 1)\n",
    "    Z = TensorFunctionSpace(mesh, 'P', 1) # for stress visualization\n",
    "    du = TrialFunction(V)            # Incremental displacement\n",
    "    v  = TestFunction(V)             # Test function\n",
    "    u  = Function(V)                 # Displacement from previous iteration\n",
    "    \n",
    "    F = def_grad(u)\n",
    "    W = W_guccione(F)\n",
    "    \n",
    "    Pi = W*dx \n",
    "    \n",
    "    pressure = Constant(0.0)\n",
    "    T = Expression('x[2] < DOLFIN_EPS ? pressure : 0',degree = 2, \n",
    "                   pressure = pressure)\n",
    "    N = FacetNormal(mesh)\n",
    "\n",
    "    Gext = T*inner(v, cofac(F)*N)*ds\n",
    "    G = derivative(Pi, u, v) + Gext\n",
    "\n",
    "    dG = derivative(G, u, du)\n",
    "    \n",
    "    #boundary condition\n",
    "    c = Constant((0.0, 0.0, 0.0))\n",
    "    bcl = DirichletBC(V, c, left)\n",
    "    bcs = [bcl]\n",
    "\n",
    "    total_pressure = 0.004\n",
    "    steps = 10   \n",
    "    pressures = [0]\n",
    "    disp = [0]\n",
    "    for i in range(steps):\n",
    "        current_pressure = total_force/steps*(i+1) \n",
    "        pressure.assign(current_pressure)\n",
    "        solve(G == 0, u, bcs, J=dG)\n",
    "        pressures.append(current_pressure)\n",
    "        disp.append(get_disp(V,u))\n",
    "    \n",
    "    plot_beam(V,u)\n",
    "    return disp, pressures\n",
    "    \n",
    "    "
   ]
  },
  {
   "cell_type": "markdown",
   "metadata": {},
   "source": [
    "We can now run the benchmark for different element sizes of 0.1, 0.125, 0.25 and 0.5 mm and see how the tip displacement changes."
   ]
  },
  {
   "cell_type": "code",
   "execution_count": null,
   "metadata": {},
   "outputs": [],
   "source": [
    "print('solving 0.5 mm')\n",
    "disp2, pressures2 = refine_benchmark(20,2,2)"
   ]
  },
  {
   "cell_type": "code",
   "execution_count": null,
   "metadata": {},
   "outputs": [],
   "source": [
    "print('solving 0.25 mm')\n",
    "disp4, pressures4 = refine_benchmark(40,4,4)"
   ]
  },
  {
   "cell_type": "code",
   "execution_count": null,
   "metadata": {},
   "outputs": [],
   "source": [
    "print('solving 0.125 mm')\n",
    "disp8, pressures8 = refine_benchmark(80,8,8)"
   ]
  },
  {
   "cell_type": "code",
   "execution_count": null,
   "metadata": {},
   "outputs": [],
   "source": [
    "print('solving 0.1 mm')\n",
    "disp10, pressures10 = refine_benchmark(100,10,10)"
   ]
  },
  {
   "cell_type": "code",
   "execution_count": null,
   "metadata": {},
   "outputs": [],
   "source": [
    "plt.plot(disp2,pressures2, label = '0.5 mm')\n",
    "plt.plot(disp4,pressures4, label = '0.25 mm')\n",
    "plt.plot(disp8,pressures8, label = '0.125 mm')\n",
    "plt.plot(disp10,pressures10, label = '0.1 mm')\n",
    "plt.legend(loc = 'upper left')\n",
    "plt.xlabel('tip displacement [mm]')\n",
    "plt.ylabel('pressure [kPa]')\n",
    "\n",
    "plt.figure()\n",
    "plt.scatter([21*3*3*3, 41*5*5*3, 81*9*9*3, 101*11*11*3],[disp2[-1],disp4[-1], disp8[-1], disp10[-1]])\n",
    "plt.plot([21*3*3*3, 41*5*5*3, 81*9*9*3, 101*11*11*3],[disp2[-1],disp4[-1], disp8[-1], disp10[-1]])\n",
    "plt.xlabel('number of degrees of freedom [-]')\n",
    "plt.ylabel('tip displacement [mm]')\n"
   ]
  },
  {
   "cell_type": "markdown",
   "metadata": {},
   "source": [
    "We see that the element size had a significant influence in our results. However, the tip displacement converges after using 20000 degrees of freedom (element size 0.125 mm). "
   ]
  },
  {
   "cell_type": "markdown",
   "metadata": {},
   "source": [
    "## Additional exercises\n",
    "\n",
    "1. Implement the Holzapfel-Ogden 2009 [3] for cardiac tissue and repeat the benchmark problem. The model has the following strain energy function:\n",
    "\n",
    "$$W_{ani} = \\frac{a}{b} \\exp[b(I_1 - 1)] + \\frac{a_f}{b_f}\\{\\exp[b_f(I_{4f} - 1)^2] - 1\\} + \\frac{a_s}{b_s}\\{\\exp[b_f(I_{4s} - 1)] - 1\\} + \\frac{a_{fs}}{b_{fs}}[\\exp(b_{fs}I_{8fs}^2) - 1]$$\n",
    "\n",
    "In this model we consider the fiber $\\mathbf{f}_0$, sheet $\\mathbf{s}_0$ and normal $\\mathbf{n}_0$ directions. For the beam problem, we assign them as $\\mathbf{f}_0 = [1,0,0]$, $\\mathbf{s}_0 = [0,1,0]$ and $\\mathbf{n}_0 = [0,0,1]$. With this, we define the invariants:\n",
    "$$I_{4f} = \\mathbf{f}_0 \\cdot \\mathbf{C} \\mathbf{f}_0$$\n",
    "$$I_{4s} = \\mathbf{s}_0 \\cdot \\mathbf{C} \\mathbf{s}_0$$\n",
    "$$I_{8fs} = \\frac{1}{2}(\\mathbf{f}_0 \\cdot \\mathbf{C} \\mathbf{s}_0 + \\mathbf{s}_0 \\cdot \\mathbf{C} \\mathbf{f}_0)$$\n",
    "\n",
    "Consider the same nearly incompressible approach as before and use $\\bar{\\mathbf{C}}$ to compute the invariants. Use the following parameters:\n",
    "```\n",
    "    kappa = 100. # kPa\n",
    "    \n",
    "    a = 0.05 # kPa\n",
    "    b = 2.0 # -\n",
    "    af = 0.1 # kPa\n",
    "    bf = 2.0 # -\n",
    "    a_s = 0.05 # kPa\n",
    "    bs = 2.0 # -\n",
    "    afs = 0.01 # kPa\n",
    "    bfs = 2.0 # -\n",
    "```\n",
    "2. To investigate locking, change the element type to tetrahedron by changing `CellType.Type.hexahedron` to `CellType.Type.tetrahedron` in the `BoxMesh` function of `refine_mesh`. Also change the degree of the element by modifying  `V = VectorFunctionSpace(mesh, \"Lagrange\", 1), Z = TensorFunctionSpace(mesh, 'P', 1)` to `V = VectorFunctionSpace(mesh, \"Lagrange\", 2), Z = TensorFunctionSpace(mesh, 'P', 2)` \n"
   ]
  },
  {
   "cell_type": "code",
   "execution_count": null,
   "metadata": {},
   "outputs": [],
   "source": [
    "def W_HO(F):\n",
    "    \n",
    "    Wani = None\n",
    "    Winc = None\n",
    "    return Wani + Winc"
   ]
  },
  {
   "cell_type": "code",
   "execution_count": null,
   "metadata": {},
   "outputs": [],
   "source": [
    "def refine_benchmark_HO(nx,ny,nz):\n",
    "    mesh = BoxMesh.create([Point(0.0,0.0,0.0),Point(10.0,1.0,1.0)],[nx,ny,nz],CellType.Type.hexahedron)\n",
    "    V = VectorFunctionSpace(mesh, \"Lagrange\", 1)\n",
    "    Z = TensorFunctionSpace(mesh, 'P', 1) # for stress visualization\n",
    "    du = TrialFunction(V)            # Incremental displacement\n",
    "    v  = TestFunction(V)             # Test function\n",
    "    u  = Function(V)                 # Displacement from previous iteration\n",
    "    \n",
    "    F = def_grad(u)\n",
    "    W = None\n",
    "    \n",
    "    Pi = W*dx \n",
    "    \n",
    "    pressure = Constant(0.0)\n",
    "    T = Expression('x[2] < DOLFIN_EPS ? pressure : 0',degree = 2, \n",
    "                   pressure = pressure)\n",
    "    N = FacetNormal(mesh)\n",
    "\n",
    "    Gext = T*inner(v, cofac(F)*N)*ds\n",
    "    G = derivative(Pi, u, v) + Gext\n",
    "\n",
    "    dG = derivative(G, u, du)\n",
    "    \n",
    "    #boundary condition\n",
    "    c = Constant((0.0, 0.0, 0.0))\n",
    "    bcl = DirichletBC(V, c, left)\n",
    "    bcs = [bcl]\n",
    "\n",
    "    total_pressure = 0.004\n",
    "    steps = 10   \n",
    "    pressures = [0]\n",
    "    disp = [0]\n",
    "    for i in range(steps):\n",
    "        current_pressure = total_force/steps*(i+1) \n",
    "        pressure.assign(current_pressure)\n",
    "        solve(G == 0, u, bcs, J=dG)\n",
    "        pressures.append(current_pressure)\n",
    "        disp.append(get_disp(V,u))\n",
    "    \n",
    "    plot_beam(V,u)\n",
    "    return disp, pressures"
   ]
  },
  {
   "cell_type": "code",
   "execution_count": null,
   "metadata": {},
   "outputs": [],
   "source": [
    "disp2, pressures2 = refine_benchmark_HO(20,2,2)"
   ]
  },
  {
   "cell_type": "markdown",
   "metadata": {},
   "source": [
    "## References\n",
    "\n",
    "[1] Guccione, Julius M., Kevin D. Costa, and Andrew D. McCulloch. \"Finite element stress analysis of left ventricular mechanics in the beating dog heart.\" Journal of biomechanics 28, no. 10 (1995): 1167-1177.\n",
    "\n",
    "[2] Land, Sander, Viatcheslav Gurev, Sander Arens, Christoph M. Augustin, Lukas Baron, Robert Blake, Chris Bradley et al. \"Verification of cardiac mechanics software: benchmark problems and solutions for testing active and passive material behaviour.\" Proc. R. Soc. A 471, no. 2184 (2015): 20150641.\n",
    "\n",
    "[3] Holzapfel, Gerhard A., and Ray W. Ogden. \"Constitutive modelling of passive myocardium: a structurally based framework for material characterization.\" Philosophical Transactions of the Royal Society of London A: Mathematical, Physical and Engineering Sciences 367, no. 1902 (2009): 3445-3475."
   ]
  }
 ],
 "metadata": {
  "kernelspec": {
   "display_name": "Python 3",
   "language": "python",
   "name": "python3"
  },
  "language_info": {
   "codemirror_mode": {
    "name": "ipython",
    "version": 3
   },
   "file_extension": ".py",
   "mimetype": "text/x-python",
   "name": "python",
   "nbconvert_exporter": "python",
   "pygments_lexer": "ipython3",
   "version": "3.6.5"
  }
 },
 "nbformat": 4,
 "nbformat_minor": 2
}
